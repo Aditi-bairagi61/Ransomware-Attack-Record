{
  "nbformat": 4,
  "nbformat_minor": 0,
  "metadata": {
    "colab": {
      "provenance": []
    },
    "kernelspec": {
      "name": "python3",
      "display_name": "Python 3"
    },
    "language_info": {
      "name": "python"
    }
  },
  "cells": [
    {
      "cell_type": "code",
      "execution_count": null,
      "metadata": {
        "colab": {
          "base_uri": "https://localhost:8080/"
        },
        "id": "0OoNNxUs0Bgn",
        "outputId": "e4c61617-2622-4cab-8387-c4544769cd22"
      },
      "outputs": [
        {
          "output_type": "stream",
          "name": "stdout",
          "text": [
            "Accuracy (Benign): 0.9271844660194175\n",
            "F1 Score (Benign): 0.9622166246851386\n",
            "Recall (Benign): 0.9271844660194175\n"
          ]
        },
        {
          "output_type": "stream",
          "name": "stderr",
          "text": [
            "/usr/local/lib/python3.10/dist-packages/sklearn/metrics/_classification.py:1344: UndefinedMetricWarning: Recall is ill-defined and being set to 0.0 in labels with no true samples. Use `zero_division` parameter to control this behavior.\n",
            "  _warn_prf(average, modifier, msg_start, len(result))\n"
          ]
        }
      ],
      "source": [
        "import pandas as pd\n",
        "from sklearn.model_selection import train_test_split\n",
        "from sklearn.metrics import accuracy_score, f1_score, recall_score\n",
        "from sklearn.neighbors import KNeighborsClassifier\n",
        "from imblearn.over_sampling import RandomOverSampler\n",
        "\n",
        "# Read the dataset\n",
        "df = pd.read_csv(\"/content/Dataset.txt\", header=None)\n",
        "\n",
        "# Split the dataset into features (x) and target (y)\n",
        "x = df.iloc[:, :-1].values\n",
        "y = df.iloc[:, -1].values\n",
        "\n",
        "# Resample the dataset to handle class imbalance\n",
        "oversampler = RandomOverSampler(random_state=42)\n",
        "x_resampled, y_resampled = oversampler.fit_resample(x, y)\n",
        "\n",
        "# Split the resampled data into training and testing sets\n",
        "x_train, x_test, y_train, y_test = train_test_split(x_resampled, y_resampled, test_size=0.2, random_state=75)\n",
        "\n",
        "# Instantiate and train the KNeighborsClassifier\n",
        "classifier = KNeighborsClassifier(n_neighbors=5, metric='euclidean')  # Corrected metric to 'euclidean'\n",
        "classifier.fit(x_train, y_train)\n",
        "\n",
        "# Generate predictions\n",
        "y_pred = classifier.predict(x_test)\n",
        "\n",
        "# Filter predictions and true labels for 'Benign' class\n",
        "benign_indices = (y_test == 'Benign')\n",
        "y_test_benign = y_test[benign_indices]\n",
        "y_pred_benign = y_pred[benign_indices]\n",
        "\n",
        "# Calculate evaluation metrics for 'Benign' class\n",
        "accuracy_benign = accuracy_score(y_test_benign, y_pred_benign)\n",
        "f1_benign = f1_score(y_test_benign, y_pred_benign, average='weighted')\n",
        "recall_benign = recall_score(y_test_benign, y_pred_benign, average='weighted')\n",
        "\n",
        "# Printing the evaluation metrics for 'Benign' class\n",
        "print(\"Accuracy (Benign):\", accuracy_benign)\n",
        "print(\"F1 Score (Benign):\", f1_benign)\n",
        "print(\"Recall (Benign):\", recall_benign)\n"
      ]
    },
    {
      "cell_type": "markdown",
      "source": [],
      "metadata": {
        "id": "jhlFJgZW8UX2"
      }
    },
    {
      "cell_type": "markdown",
      "source": [],
      "metadata": {
        "id": "CWQeYDRZ8Txx"
      }
    },
    {
      "cell_type": "code",
      "source": [
        "from google.colab import drive\n",
        "drive.mount('/content/drive')"
      ],
      "metadata": {
        "id": "4rJ08y4R3dzM"
      },
      "execution_count": null,
      "outputs": []
    },
    {
      "cell_type": "code",
      "source": [
        "import pandas as pd\n",
        "from sklearn.model_selection import train_test_split\n",
        "from sklearn.metrics import accuracy_score, f1_score, recall_score\n",
        "from sklearn.neighbors import KNeighborsClassifier\n",
        "from imblearn.over_sampling import RandomOverSampler\n",
        "\n",
        "# Read the dataset\n",
        "df = pd.read_csv(\"/content/Dataset.txt\", header=None)\n",
        "\n",
        "# Split the dataset into features (x) and target (y)\n",
        "x = df.iloc[:, :-1].values\n",
        "y = df.iloc[:, -1].values\n",
        "\n",
        "# Resample the dataset to handle class imbalance\n",
        "oversampler = RandomOverSampler(random_state=42)\n",
        "x_resampled, y_resampled = oversampler.fit_resample(x, y)\n",
        "\n",
        "# Split the resampled data into training and testing sets\n",
        "x_train, x_test, y_train, y_test = train_test_split(x_resampled, y_resampled, test_size=0.2, random_state=75)\n",
        "\n",
        "# Instantiate and train the KNeighborsClassifier\n",
        "classifier = KNeighborsClassifier(n_neighbors=5, metric='euclidean')  # Corrected metric to 'euclidean'\n",
        "classifier.fit(x_train, y_train)\n",
        "\n",
        "# Generate predictions\n",
        "y_pred = classifier.predict(x_test)\n",
        "\n",
        "# Filter predictions and true labels for 'Cerber' class\n",
        "Cerber_indices = (y_test == 'Cerber')\n",
        "y_test_benign = y_test[Cerber_indices]\n",
        "y_pred_benign = y_pred[Cerber_indices]\n",
        "\n",
        "# Calculate evaluation metrics for 'Cerber' class\n",
        "accuracy_Cerber = accuracy_score(y_test_benign, y_pred_benign)\n",
        "f1_Cerber = f1_score(y_test_benign, y_pred_benign, average='weighted')\n",
        "recall_Cerber = recall_score(y_test_benign, y_pred_benign, average='weighted')\n",
        "\n",
        "# Printing the evaluation metrics for 'Cerber' class\n",
        "print(\"Accuracy (Cerber):\", accuracy_Cerber)\n",
        "print(\"F1 Score (Cerber):\", f1_Cerber)\n",
        "print(\"Recall (Cerber):\", recall_Cerber)\n"
      ],
      "metadata": {
        "colab": {
          "base_uri": "https://localhost:8080/"
        },
        "id": "upkiGnX77cKj",
        "outputId": "2a4f0fed-06ff-4494-9324-bbb706c19cc7"
      },
      "execution_count": null,
      "outputs": [
        {
          "output_type": "stream",
          "name": "stdout",
          "text": [
            "Accuracy (Cerber): 0.972972972972973\n",
            "F1 Score (Cerber): 0.9863013698630138\n",
            "Recall (Cerber): 0.972972972972973\n"
          ]
        },
        {
          "output_type": "stream",
          "name": "stderr",
          "text": [
            "/usr/local/lib/python3.10/dist-packages/sklearn/metrics/_classification.py:1344: UndefinedMetricWarning: Recall is ill-defined and being set to 0.0 in labels with no true samples. Use `zero_division` parameter to control this behavior.\n",
            "  _warn_prf(average, modifier, msg_start, len(result))\n"
          ]
        }
      ]
    },
    {
      "cell_type": "code",
      "source": [
        "import pandas as pd\n",
        "from sklearn.model_selection import train_test_split\n",
        "from sklearn.metrics import accuracy_score, f1_score, recall_score\n",
        "from sklearn.neighbors import KNeighborsClassifier\n",
        "from imblearn.over_sampling import RandomOverSampler\n",
        "\n",
        "# Read the dataset\n",
        "df = pd.read_csv(\"/content/Dataset.txt\", header=None)\n",
        "\n",
        "# Split the dataset into features (x) and target (y)\n",
        "x = df.iloc[:, :-1].values\n",
        "y = df.iloc[:, -1].values\n",
        "\n",
        "# Resample the dataset to handle class imbalance\n",
        "oversampler = RandomOverSampler(random_state=42)\n",
        "x_resampled, y_resampled = oversampler.fit_resample(x, y)\n",
        "\n",
        "# Split the resampled data into training and testing sets\n",
        "x_train, x_test, y_train, y_test = train_test_split(x_resampled, y_resampled, test_size=0.2, random_state=75)\n",
        "\n",
        "# Instantiate and train the KNeighborsClassifier\n",
        "classifier = KNeighborsClassifier(n_neighbors=5, metric='euclidean')  # Corrected metric to 'euclidean'\n",
        "classifier.fit(x_train, y_train)\n",
        "\n",
        "# Generate predictions\n",
        "y_pred = classifier.predict(x_test)\n",
        "\n",
        "# Filter predictions and true labels for 'Locky' class\n",
        "Locky_indices = (y_test == 'Locky')\n",
        "y_test_locky = y_test[Locky_indices]\n",
        "y_pred_locky = y_pred[Locky_indices]\n",
        "\n",
        "# Calculate evaluation metrics for 'Locky' class\n",
        "accuracy_Locky = accuracy_score(y_test_locky, y_pred_locky)\n",
        "f1_Locky = f1_score(y_test_locky, y_pred_locky, average='weighted')\n",
        "recall_Locky = recall_score(y_test_locky, y_pred_locky, average='weighted')\n",
        "\n",
        "# Printing the evaluation metrics for 'Locky' class\n",
        "print(\"Accuracy (Locky):\", accuracy_Locky)\n",
        "print(\"F1 Score (Locky):\", f1_Locky)\n",
        "print(\"Recall (Locky):\", recall_Locky)\n"
      ],
      "metadata": {
        "colab": {
          "base_uri": "https://localhost:8080/"
        },
        "id": "i_XqSLhx8oLh",
        "outputId": "4ca5dcea-9cdf-412b-c9d2-95130d058090"
      },
      "execution_count": null,
      "outputs": [
        {
          "output_type": "stream",
          "name": "stdout",
          "text": [
            "Accuracy (Locky): 0.8777777777777778\n",
            "F1 Score (Locky): 0.9349112426035504\n",
            "Recall (Locky): 0.8777777777777778\n"
          ]
        },
        {
          "output_type": "stream",
          "name": "stderr",
          "text": [
            "/usr/local/lib/python3.10/dist-packages/sklearn/metrics/_classification.py:1344: UndefinedMetricWarning: Recall is ill-defined and being set to 0.0 in labels with no true samples. Use `zero_division` parameter to control this behavior.\n",
            "  _warn_prf(average, modifier, msg_start, len(result))\n"
          ]
        }
      ]
    },
    {
      "cell_type": "code",
      "source": [
        "import pandas as pd\n",
        "from sklearn.model_selection import train_test_split\n",
        "from sklearn.metrics import accuracy_score, f1_score, recall_score\n",
        "from sklearn.neighbors import KNeighborsClassifier\n",
        "from imblearn.over_sampling import RandomOverSampler\n",
        "\n",
        "# Read the dataset\n",
        "df = pd.read_csv(\"/content/Dataset.txt\", header=None)\n",
        "\n",
        "# Split the dataset into features (x) and target (y)\n",
        "x = df.iloc[:, :-1].values\n",
        "y = df.iloc[:, -1].values\n",
        "\n",
        "# Resample the dataset to handle class imbalance\n",
        "oversampler = RandomOverSampler(random_state=42)\n",
        "x_resampled, y_resampled = oversampler.fit_resample(x, y)\n",
        "\n",
        "# Split the resampled data into training and testing sets\n",
        "x_train, x_test, y_train, y_test = train_test_split(x_resampled, y_resampled, test_size=0.2, random_state=75)\n",
        "\n",
        "# Instantiate and train the KNeighborsClassifier\n",
        "classifier = KNeighborsClassifier(n_neighbors=5, metric='euclidean')  # Corrected metric to 'euclidean'\n",
        "classifier.fit(x_train, y_train)\n",
        "\n",
        "# Generate predictions\n",
        "y_pred = classifier.predict(x_test)\n",
        "\n",
        "# Filter predictions and true labels for 'Reveton' class\n",
        "Reveton_indices = (y_test == 'Reveton')\n",
        "y_test_reveton = y_test[Reveton_indices]\n",
        "y_pred_reveton = y_pred[Reveton_indices]\n",
        "\n",
        "# Calculate evaluation metrics for 'Reveton' class\n",
        "accuracy_Reveton = accuracy_score(y_test_reveton, y_pred_reveton)\n",
        "f1_Reveton = f1_score(y_test_reveton, y_pred_reveton, average='weighted')\n",
        "recall_Reveton = recall_score(y_test_reveton, y_pred_reveton, average='weighted')\n",
        "\n",
        "# Printing the evaluation metrics for 'Locky' class\n",
        "print(\"Accuracy (Reveton):\", accuracy_Reveton)\n",
        "print(\"F1 Score (Reveton):\", f1_Reveton)\n",
        "print(\"Recall (Reveton):\", recall_Reveton)\n"
      ],
      "metadata": {
        "colab": {
          "base_uri": "https://localhost:8080/"
        },
        "id": "U_8JzteN-xw9",
        "outputId": "613b61c9-aab8-4fba-8141-83ba33c11c7b"
      },
      "execution_count": null,
      "outputs": [
        {
          "output_type": "stream",
          "name": "stdout",
          "text": [
            "Accuracy (Reveton): 0.8846153846153846\n",
            "F1 Score (Reveton): 0.9387755102040815\n",
            "Recall (Reveton): 0.8846153846153846\n"
          ]
        },
        {
          "output_type": "stream",
          "name": "stderr",
          "text": [
            "/usr/local/lib/python3.10/dist-packages/sklearn/metrics/_classification.py:1344: UndefinedMetricWarning: Recall is ill-defined and being set to 0.0 in labels with no true samples. Use `zero_division` parameter to control this behavior.\n",
            "  _warn_prf(average, modifier, msg_start, len(result))\n"
          ]
        }
      ]
    },
    {
      "cell_type": "code",
      "source": [
        "import pandas as pd\n",
        "from sklearn.model_selection import train_test_split\n",
        "from sklearn.metrics import accuracy_score, f1_score, recall_score\n",
        "from sklearn.neighbors import KNeighborsClassifier\n",
        "from imblearn.over_sampling import RandomOverSampler\n",
        "\n",
        "# Read the dataset\n",
        "df = pd.read_csv(\"/content/Dataset.txt\", header=None)\n",
        "\n",
        "# Split the dataset into features (x) and target (y)\n",
        "x = df.iloc[:, :-1].values\n",
        "y = df.iloc[:, -1].values\n",
        "\n",
        "# Resample the dataset to handle class imbalance\n",
        "oversampler = RandomOverSampler(random_state=42)\n",
        "x_resampled, y_resampled = oversampler.fit_resample(x, y)\n",
        "\n",
        "# Split the resampled data into training and testing sets\n",
        "x_train, x_test, y_train, y_test = train_test_split(x_resampled, y_resampled, test_size=0.2, random_state=75)\n",
        "\n",
        "# Instantiate and train the KNeighborsClassifier\n",
        "classifier = KNeighborsClassifier(n_neighbors=5, metric='euclidean')  # Corrected metric to 'euclidean'\n",
        "classifier.fit(x_train, y_train)\n",
        "\n",
        "# Generate predictions\n",
        "y_pred = classifier.predict(x_test)\n",
        "\n",
        "# Filter predictions and true labels for 'TeslaCrypt' class\n",
        "TeslaCrypt_indices = (y_test == 'TeslaCrypt')\n",
        "y_test_TeslaCrypt = y_test[TeslaCrypt_indices]\n",
        "y_pred_TeslaCrypt = y_pred[TeslaCrypt_indices]\n",
        "\n",
        "# Calculate evaluation metrics for 'TeslaCrypt' class\n",
        "accuracy_TeslaCrypt = accuracy_score(y_test_TeslaCrypt, y_pred_TeslaCrypt)\n",
        "f1_TeslaCrypt = f1_score(y_test_TeslaCrypt, y_pred_TeslaCrypt, average='weighted')\n",
        "recall_TeslaCrypt = recall_score(y_test_TeslaCrypt, y_pred_TeslaCrypt, average='weighted')\n",
        "\n",
        "# Printing the evaluation metrics for 'TeslaCrypt' class\n",
        "print(\"Accuracy (TeslaCrypt):\", accuracy_TeslaCrypt)\n",
        "print(\"F1 Score (TeslaCrypt):\", f1_TeslaCrypt)\n",
        "print(\"Recall (TeslaCrypt):\", recall_TeslaCrypt)\n"
      ],
      "metadata": {
        "colab": {
          "base_uri": "https://localhost:8080/"
        },
        "id": "ddAOr1s3_QZp",
        "outputId": "e6bd9fc9-7ca7-460b-d277-a2056a7a7bdc"
      },
      "execution_count": null,
      "outputs": [
        {
          "output_type": "stream",
          "name": "stdout",
          "text": [
            "Accuracy (TeslaCrypt): nan\n",
            "F1 Score (TeslaCrypt): 0.0\n",
            "Recall (TeslaCrypt): 0.0\n"
          ]
        },
        {
          "output_type": "stream",
          "name": "stderr",
          "text": [
            "/usr/local/lib/python3.10/dist-packages/numpy/lib/function_base.py:520: RuntimeWarning: Mean of empty slice.\n",
            "  avg = a.mean(axis, **keepdims_kw)\n",
            "/usr/local/lib/python3.10/dist-packages/numpy/core/_methods.py:129: RuntimeWarning: invalid value encountered in scalar divide\n",
            "  ret = ret.dtype.type(ret / rcount)\n"
          ]
        }
      ]
    },
    {
      "cell_type": "code",
      "source": [
        "import pandas as pd\n",
        "from sklearn.model_selection import train_test_split\n",
        "from sklearn.metrics import accuracy_score, f1_score, recall_score\n",
        "from sklearn.neighbors import KNeighborsClassifier\n",
        "from imblearn.over_sampling import RandomOverSampler\n",
        "\n",
        "# Read the dataset\n",
        "df = pd.read_csv(\"/content/Dataset.txt\", header=None)\n",
        "\n",
        "# Split the dataset into features (x) and target (y)\n",
        "x = df.iloc[:, :-1].values\n",
        "y = df.iloc[:, -1].values\n",
        "\n",
        "# Resample the dataset to handle class imbalance\n",
        "oversampler = RandomOverSampler(random_state=42)\n",
        "x_resampled, y_resampled = oversampler.fit_resample(x, y)\n",
        "\n",
        "# Split the resampled data into training and testing sets\n",
        "x_train, x_test, y_train, y_test = train_test_split(x_resampled, y_resampled, test_size=0.2, random_state=75)\n",
        "\n",
        "# Instantiate and train the KNeighborsClassifier\n",
        "classifier = KNeighborsClassifier(n_neighbors=5, metric='euclidean')  # Corrected metric to 'euclidean'\n",
        "classifier.fit(x_train, y_train)\n",
        "\n",
        "# Generate predictions\n",
        "y_pred = classifier.predict(x_test)\n",
        "\n",
        "# Filter predictions and true labels for 'Yakes' class\n",
        "Yakes_indices = (y_test == 'Yakes')\n",
        "y_test_Yakes = y_test[Yakes_indices]\n",
        "y_pred_Yakes = y_pred[Yakes_indices]\n",
        "\n",
        "# Calculate evaluation metrics for 'Yakes' class\n",
        "accuracy_Yakes = accuracy_score(y_test_Yakes, y_pred_Yakes)\n",
        "f1_Yakes = f1_score(y_test_Yakes, y_pred_Yakes, average='weighted')\n",
        "recall_Yakes = recall_score(y_test_Yakes, y_pred_Yakes, average='weighted')\n",
        "\n",
        "# Printing the evaluation metrics for 'Yakes' class\n",
        "print(\"Accuracy (Yakes):\", accuracy_Yakes)\n",
        "print(\"F1 Score (Yakes):\", f1_Yakes)\n",
        "print(\"Recall (Yakes):\", recall_Yakes)\n"
      ],
      "metadata": {
        "colab": {
          "base_uri": "https://localhost:8080/"
        },
        "id": "JNkXV0SyA-Sw",
        "outputId": "0b070daf-0293-45fa-a3b5-4c58a82d4bf1"
      },
      "execution_count": null,
      "outputs": [
        {
          "output_type": "stream",
          "name": "stdout",
          "text": [
            "Accuracy (Yakes): 0.8021390374331551\n",
            "F1 Score (Yakes): 0.8902077151335311\n",
            "Recall (Yakes): 0.8021390374331551\n"
          ]
        },
        {
          "output_type": "stream",
          "name": "stderr",
          "text": [
            "/usr/local/lib/python3.10/dist-packages/sklearn/metrics/_classification.py:1344: UndefinedMetricWarning: Recall is ill-defined and being set to 0.0 in labels with no true samples. Use `zero_division` parameter to control this behavior.\n",
            "  _warn_prf(average, modifier, msg_start, len(result))\n"
          ]
        }
      ]
    },
    {
      "cell_type": "code",
      "source": [
        "import pandas as pd\n",
        "from sklearn.model_selection import train_test_split\n",
        "from sklearn.metrics import accuracy_score, f1_score, recall_score\n",
        "from sklearn.neural_network import MLPClassifier\n",
        "from imblearn.over_sampling import RandomOverSampler\n",
        "\n",
        "# Read the dataset\n",
        "df = pd.read_csv(\"/content/Dataset.txt\", header=None)\n",
        "\n",
        "# Split the dataset into features (x) and target (y)\n",
        "x = df.iloc[:, :-1].values\n",
        "y = df.iloc[:, -1].values\n",
        "\n",
        "# Resample the dataset to handle class imbalance\n",
        "oversampler = RandomOverSampler(random_state=42)\n",
        "x_resampled, y_resampled = oversampler.fit_resample(x, y)\n",
        "\n",
        "# Split the resampled data into training and testing sets\n",
        "x_train, x_test, y_train, y_test = train_test_split(x_resampled, y_resampled, test_size=0.2, random_state=75)\n",
        "\n",
        "# Instantiate and train the Artificial Neural Network (ANN) classifier\n",
        "classifier = MLPClassifier(hidden_layer_sizes=(100,), max_iter=500, random_state=42)\n",
        "classifier.fit(x_train, y_train)\n",
        "\n",
        "# Generate predictions\n",
        "y_pred = classifier.predict(x_test)\n",
        "\n",
        "# Filter predictions and true labels for 'Benign' class\n",
        "benign_indices = (y_test == 'Benign')\n",
        "y_test_benign = y_test[benign_indices]\n",
        "y_pred_benign = y_pred[benign_indices]\n",
        "\n",
        "# Calculate evaluation metrics for 'Benign' class\n",
        "accuracy_benign = accuracy_score(y_test_benign, y_pred_benign)\n",
        "f1_benign = f1_score(y_test_benign, y_pred_benign, average='weighted')\n",
        "recall_benign = recall_score(y_test_benign, y_pred_benign, average='weighted')\n",
        "\n",
        "# Printing the evaluation metrics for 'Benign' class\n",
        "print(\"Accuracy (Benign):\", accuracy_benign)\n",
        "print(\"F1 Score (Benign):\", f1_benign)\n",
        "print(\"Recall (Benign):\", recall_benign)\n"
      ],
      "metadata": {
        "colab": {
          "base_uri": "https://localhost:8080/"
        },
        "id": "MU4vAM7lBve4",
        "outputId": "aa6ce94c-9e01-491e-bf8c-5601fab93fb5"
      },
      "execution_count": null,
      "outputs": [
        {
          "output_type": "stream",
          "name": "stdout",
          "text": [
            "Accuracy (Benign): 0.8980582524271845\n",
            "F1 Score (Benign): 0.9462915601023019\n",
            "Recall (Benign): 0.8980582524271845\n"
          ]
        },
        {
          "output_type": "stream",
          "name": "stderr",
          "text": [
            "/usr/local/lib/python3.10/dist-packages/sklearn/metrics/_classification.py:1344: UndefinedMetricWarning: Recall is ill-defined and being set to 0.0 in labels with no true samples. Use `zero_division` parameter to control this behavior.\n",
            "  _warn_prf(average, modifier, msg_start, len(result))\n"
          ]
        }
      ]
    },
    {
      "cell_type": "code",
      "source": [
        "import pandas as pd\n",
        "from sklearn.model_selection import train_test_split\n",
        "from sklearn.metrics import accuracy_score, f1_score, recall_score\n",
        "from sklearn.neural_network import MLPClassifier\n",
        "from imblearn.over_sampling import RandomOverSampler\n",
        "\n",
        "# Read the dataset\n",
        "df = pd.read_csv(\"/content/Dataset.txt\", header=None)\n",
        "\n",
        "# Split the dataset into features (x) and target (y)\n",
        "x = df.iloc[:, :-1].values\n",
        "y = df.iloc[:, -1].values\n",
        "\n",
        "# Resample the dataset to handle class imbalance\n",
        "oversampler = RandomOverSampler(random_state=42)\n",
        "x_resampled, y_resampled = oversampler.fit_resample(x, y)\n",
        "\n",
        "# Split the resampled data into training and testing sets\n",
        "x_train, x_test, y_train, y_test = train_test_split(x_resampled, y_resampled, test_size=0.2, random_state=75)\n",
        "\n",
        "# Instantiate and train the Artificial Neural Network (ANN) classifier\n",
        "classifier = MLPClassifier(hidden_layer_sizes=(100,), max_iter=500, random_state=42)\n",
        "classifier.fit(x_train, y_train)\n",
        "\n",
        "# Generate predictions\n",
        "y_pred = classifier.predict(x_test)\n",
        "\n",
        "# Filter predictions and true labels for 'Cerber' class\n",
        "Cerber_indices = (y_test == 'Cerber')\n",
        "y_test_Cerber = y_test[Cerber_indices]\n",
        "y_pred_Cerber = y_pred[Cerber_indices]\n",
        "\n",
        "# Calculate evaluation metrics for 'Cerber' class\n",
        "accuracy_Cerber = accuracy_score(y_test_Cerber, y_pred_Cerber)\n",
        "f1_Cerber = f1_score(y_test_Cerber, y_pred_Cerber, average='weighted')\n",
        "recall_Cerber = recall_score(y_test_Cerber, y_pred_Cerber, average='weighted')\n",
        "\n",
        "# Printing the evaluation metrics for 'Cerber' class\n",
        "print(\"Accuracy (Cerber):\", accuracy_benign)\n",
        "print(\"F1 Score (Cerber):\", f1_benign)\n",
        "print(\"Recall (Cerber):\", recall_benign)\n"
      ],
      "metadata": {
        "colab": {
          "base_uri": "https://localhost:8080/"
        },
        "id": "bqKIk8yvC_ii",
        "outputId": "9b7049c9-fd23-4717-88b9-41735b639b6a"
      },
      "execution_count": null,
      "outputs": [
        {
          "output_type": "stream",
          "name": "stdout",
          "text": [
            "Accuracy (Cerber): 0.8980582524271845\n",
            "F1 Score (Cerber): 0.9462915601023019\n",
            "Recall (Cerber): 0.8980582524271845\n"
          ]
        },
        {
          "output_type": "stream",
          "name": "stderr",
          "text": [
            "/usr/local/lib/python3.10/dist-packages/sklearn/metrics/_classification.py:1344: UndefinedMetricWarning: Recall is ill-defined and being set to 0.0 in labels with no true samples. Use `zero_division` parameter to control this behavior.\n",
            "  _warn_prf(average, modifier, msg_start, len(result))\n"
          ]
        }
      ]
    },
    {
      "cell_type": "code",
      "source": [
        "import pandas as pd\n",
        "from sklearn.model_selection import train_test_split\n",
        "from sklearn.metrics import accuracy_score, f1_score, recall_score\n",
        "from sklearn.neural_network import MLPClassifier\n",
        "from imblearn.over_sampling import RandomOverSampler\n",
        "\n",
        "# Read the dataset\n",
        "df = pd.read_csv(\"/content/Dataset.txt\", header=None)\n",
        "\n",
        "# Split the dataset into features (x) and target (y)\n",
        "x = df.iloc[:, :-1].values\n",
        "y = df.iloc[:, -1].values\n",
        "\n",
        "# Resample the dataset to handle class imbalance\n",
        "oversampler = RandomOverSampler(random_state=42)\n",
        "x_resampled, y_resampled = oversampler.fit_resample(x, y)\n",
        "\n",
        "# Split the resampled data into training and testing sets\n",
        "x_train, x_test, y_train, y_test = train_test_split(x_resampled, y_resampled, test_size=0.2, random_state=75)\n",
        "\n",
        "# Instantiate and train the Artificial Neural Network (ANN) classifier\n",
        "classifier = MLPClassifier(hidden_layer_sizes=(100,), max_iter=500, random_state=42)\n",
        "classifier.fit(x_train, y_train)\n",
        "\n",
        "# Generate predictions\n",
        "y_pred = classifier.predict(x_test)\n",
        "\n",
        "# Filter predictions and true labels for 'Locky' class\n",
        "Locky_indices = (y_test == 'Locky')\n",
        "y_test_Locky = y_test[Locky_indices]\n",
        "y_pred_Locky = y_pred[Locky_indices]\n",
        "\n",
        "# Calculate evaluation metrics for 'Locky' class\n",
        "accuracy_Locky = accuracy_score(y_test_Locky, y_pred_Locky)\n",
        "f1_Locky= f1_score(y_test_Locky, y_pred_Locky, average='weighted')\n",
        "recall_Locky= recall_score(y_test_Locky, y_pred_Locky, average='weighted')\n",
        "\n",
        "# Printing the evaluation metrics for 'Locky' class\n",
        "print(\"Accuracy (Locky):\", accuracy_Locky)\n",
        "print(\"F1 Score (Locky):\", f1_Locky)\n",
        "print(\"Recall (Locky):\", recall_Locky)\n"
      ],
      "metadata": {
        "colab": {
          "base_uri": "https://localhost:8080/"
        },
        "id": "TmhycLRvDDa-",
        "outputId": "8ce20793-3057-4ae1-80b2-d7e80577c4eb"
      },
      "execution_count": null,
      "outputs": [
        {
          "output_type": "stream",
          "name": "stdout",
          "text": [
            "Accuracy (Locky): 0.95\n",
            "F1 Score (Locky): 0.9743589743589743\n",
            "Recall (Locky): 0.95\n"
          ]
        },
        {
          "output_type": "stream",
          "name": "stderr",
          "text": [
            "/usr/local/lib/python3.10/dist-packages/sklearn/metrics/_classification.py:1344: UndefinedMetricWarning: Recall is ill-defined and being set to 0.0 in labels with no true samples. Use `zero_division` parameter to control this behavior.\n",
            "  _warn_prf(average, modifier, msg_start, len(result))\n"
          ]
        }
      ]
    },
    {
      "cell_type": "code",
      "source": [
        "import pandas as pd\n",
        "from sklearn.model_selection import train_test_split\n",
        "from sklearn.metrics import accuracy_score, f1_score, recall_score\n",
        "from sklearn.neural_network import MLPClassifier\n",
        "from imblearn.over_sampling import RandomOverSampler\n",
        "\n",
        "# Read the dataset\n",
        "df = pd.read_csv(\"/content/Dataset.txt\", header=None)\n",
        "\n",
        "# Split the dataset into features (x) and target (y)\n",
        "x = df.iloc[:, :-1].values\n",
        "y = df.iloc[:, -1].values\n",
        "\n",
        "# Resample the dataset to handle class imbalance\n",
        "oversampler = RandomOverSampler(random_state=42)\n",
        "x_resampled, y_resampled = oversampler.fit_resample(x, y)\n",
        "\n",
        "# Split the resampled data into training and testing sets\n",
        "x_train, x_test, y_train, y_test = train_test_split(x_resampled, y_resampled, test_size=0.2, random_state=75)\n",
        "\n",
        "# Instantiate and train the Artificial Neural Network (ANN) classifier\n",
        "classifier = MLPClassifier(hidden_layer_sizes=(100,), max_iter=500, random_state=42)\n",
        "classifier.fit(x_train, y_train)\n",
        "\n",
        "# Generate predictions\n",
        "y_pred = classifier.predict(x_test)\n",
        "\n",
        "# Filter predictions and true labels for 'Reventon' class\n",
        "Reventon_indices = (y_test == 'Reventon')\n",
        "y_test_Reventon = y_test[Reventon_indices]\n",
        "y_pred_Reventon = y_pred[Reventon_indices]\n",
        "\n",
        "# Calculate evaluation metrics for 'Reventon' class\n",
        "accuracy_Reventon = accuracy_score(y_test_Reventon, y_pred_Reventon)\n",
        "f1_Reventon = f1_score(y_test_Reventon, y_pred_Reventon, average='weighted')\n",
        "recall_Reventon = recall_score(y_test_Reventon, y_pred_Reventon, average='weighted')\n",
        "\n",
        "# Printing the evaluation metrics for 'Reventon' class\n",
        "print(\"Accuracy (Reventon):\", accuracy_Reventon)\n",
        "print(\"F1 Score (Reventon):\", f1_Reventon)\n",
        "print(\"Recall (Reventon):\", recall_Reventon)\n"
      ],
      "metadata": {
        "colab": {
          "base_uri": "https://localhost:8080/"
        },
        "id": "Bb-A3q99DEKH",
        "outputId": "cfbb3930-1347-45df-f89c-618c9b2939e2"
      },
      "execution_count": null,
      "outputs": [
        {
          "output_type": "stream",
          "name": "stdout",
          "text": [
            "Accuracy (Reventon): nan\n",
            "F1 Score (Reventon): 0.0\n",
            "Recall (Reventon): 0.0\n"
          ]
        },
        {
          "output_type": "stream",
          "name": "stderr",
          "text": [
            "/usr/local/lib/python3.10/dist-packages/numpy/lib/function_base.py:520: RuntimeWarning: Mean of empty slice.\n",
            "  avg = a.mean(axis, **keepdims_kw)\n",
            "/usr/local/lib/python3.10/dist-packages/numpy/core/_methods.py:129: RuntimeWarning: invalid value encountered in scalar divide\n",
            "  ret = ret.dtype.type(ret / rcount)\n"
          ]
        }
      ]
    },
    {
      "cell_type": "code",
      "source": [
        "import pandas as pd\n",
        "from sklearn.model_selection import train_test_split\n",
        "from sklearn.metrics import accuracy_score, f1_score, recall_score\n",
        "from sklearn.neural_network import MLPClassifier\n",
        "from imblearn.over_sampling import RandomOverSampler\n",
        "\n",
        "# Read the dataset\n",
        "df = pd.read_csv(\"/content/Dataset.txt\", header=None)\n",
        "\n",
        "# Split the dataset into features (x) and target (y)\n",
        "x = df.iloc[:, :-1].values\n",
        "y = df.iloc[:, -1].values\n",
        "\n",
        "# Resample the dataset to handle class imbalance\n",
        "oversampler = RandomOverSampler(random_state=42)\n",
        "x_resampled, y_resampled = oversampler.fit_resample(x, y)\n",
        "\n",
        "# Split the resampled data into training and testing sets\n",
        "x_train, x_test, y_train, y_test = train_test_split(x_resampled, y_resampled, test_size=0.2, random_state=75)\n",
        "\n",
        "# Instantiate and train the Artificial Neural Network (ANN) classifier\n",
        "classifier = MLPClassifier(hidden_layer_sizes=(100,), max_iter=500, random_state=42)\n",
        "classifier.fit(x_train, y_train)\n",
        "\n",
        "# Generate predictions\n",
        "y_pred = classifier.predict(x_test)\n",
        "\n",
        "# Filter predictions and true labels for 'TeslaCrypt' class\n",
        "TeslaCrypt_indices = (y_test == 'TeslaCrypt')\n",
        "y_test_TeslaCrypt = y_test[TeslaCrypt_indices]\n",
        "y_pred_TeslaCrypt = y_pred[TeslaCrypt_indices]\n",
        "\n",
        "# Calculate evaluation metrics for 'TeslaCrypt' class\n",
        "accuracy_TeslaCrypt = accuracy_score(y_test_TeslaCrypt, y_pred_TeslaCrypt)\n",
        "f1_TeslaCrypt = f1_score(y_test_TeslaCrypt, y_pred_TeslaCrypt, average='weighted')\n",
        "recall_TeslaCrypt = recall_score(y_test_TeslaCrypt, y_pred_TeslaCrypt, average='weighted')\n",
        "\n",
        "# Printing the evaluation metrics for 'TeslaCrypt' class\n",
        "print(\"Accuracy (TeslaCrypt):\", accuracy_TeslaCrypt)\n",
        "print(\"F1 Score (TeslaCrypt):\", f1_TeslaCrypt)\n",
        "print(\"Recall (TeslaCrypt):\", recall_TeslaCrypt)\n"
      ],
      "metadata": {
        "colab": {
          "base_uri": "https://localhost:8080/"
        },
        "id": "YdAfw9UUGvI8",
        "outputId": "d621216a-3609-4059-98a1-045fda99f2e6"
      },
      "execution_count": null,
      "outputs": [
        {
          "output_type": "stream",
          "name": "stdout",
          "text": [
            "Accuracy (TeslaCrypt): nan\n",
            "F1 Score (TeslaCrypt): 0.0\n",
            "Recall (TeslaCrypt): 0.0\n"
          ]
        },
        {
          "output_type": "stream",
          "name": "stderr",
          "text": [
            "/usr/local/lib/python3.10/dist-packages/numpy/lib/function_base.py:520: RuntimeWarning: Mean of empty slice.\n",
            "  avg = a.mean(axis, **keepdims_kw)\n",
            "/usr/local/lib/python3.10/dist-packages/numpy/core/_methods.py:129: RuntimeWarning: invalid value encountered in scalar divide\n",
            "  ret = ret.dtype.type(ret / rcount)\n"
          ]
        }
      ]
    },
    {
      "cell_type": "code",
      "source": [
        "import pandas as pd\n",
        "from sklearn.model_selection import train_test_split\n",
        "from sklearn.metrics import accuracy_score, f1_score, recall_score\n",
        "from sklearn.neural_network import MLPClassifier\n",
        "from imblearn.over_sampling import RandomOverSampler\n",
        "\n",
        "# Read the dataset\n",
        "df = pd.read_csv(\"/content/Dataset.txt\", header=None)\n",
        "\n",
        "# Split the dataset into features (x) and target (y)\n",
        "x = df.iloc[:, :-1].values\n",
        "y = df.iloc[:, -1].values\n",
        "\n",
        "# Resample the dataset to handle class imbalance\n",
        "oversampler = RandomOverSampler(random_state=42)\n",
        "x_resampled, y_resampled = oversampler.fit_resample(x, y)\n",
        "\n",
        "# Split the resampled data into training and testing sets\n",
        "x_train, x_test, y_train, y_test = train_test_split(x_resampled, y_resampled, test_size=0.2, random_state=75)\n",
        "\n",
        "# Instantiate and train the Artificial Neural Network (ANN) classifier\n",
        "classifier = MLPClassifier(hidden_layer_sizes=(100,), max_iter=500, random_state=42)\n",
        "classifier.fit(x_train, y_train)\n",
        "\n",
        "# Generate predictions\n",
        "y_pred = classifier.predict(x_test)\n",
        "\n",
        "# Filter predictions and true labels for 'Yakes' class\n",
        "Yakes_indices = (y_test == 'Yakes')\n",
        "y_test_Yakes = y_test[Yakes_indices]\n",
        "y_pred_Yakes = y_pred[Yakes_indices]\n",
        "\n",
        "# Calculate evaluation metrics for 'Yakes' class\n",
        "accuracy_Yakes = accuracy_score(y_test_Yakes, y_pred_Yakes)\n",
        "f1_Yakes = f1_score(y_test_Yakes, y_pred_Yakes, average='weighted')\n",
        "recall_Yakes = recall_score(y_test_Yakes, y_pred_Yakes, average='weighted')\n",
        "\n",
        "# Printing the evaluation metrics for 'Yakes' class\n",
        "print(\"Accuracy (Yakes):\", accuracy_Yakes)\n",
        "print(\"F1 Score (Yakes):\", f1_Yakes)\n",
        "print(\"Recall (Yakes):\", recall_Yakes)\n"
      ],
      "metadata": {
        "colab": {
          "base_uri": "https://localhost:8080/"
        },
        "id": "v3UuHBV_Gven",
        "outputId": "99423750-d23d-427c-d56f-9af721318ff7"
      },
      "execution_count": null,
      "outputs": [
        {
          "output_type": "stream",
          "name": "stdout",
          "text": [
            "Accuracy (Yakes): 0.8502673796791443\n",
            "F1 Score (Yakes): 0.9190751445086706\n",
            "Recall (Yakes): 0.8502673796791443\n"
          ]
        },
        {
          "output_type": "stream",
          "name": "stderr",
          "text": [
            "/usr/local/lib/python3.10/dist-packages/sklearn/metrics/_classification.py:1344: UndefinedMetricWarning: Recall is ill-defined and being set to 0.0 in labels with no true samples. Use `zero_division` parameter to control this behavior.\n",
            "  _warn_prf(average, modifier, msg_start, len(result))\n"
          ]
        }
      ]
    }
  ]
}